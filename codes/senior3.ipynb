{
 "cells": [
  {
   "cell_type": "code",
   "execution_count": 11,
   "id": "signed-saying",
   "metadata": {},
   "outputs": [],
   "source": [
    "#All datasets are put at each other in order to create a timely manner.\n",
    "import pandas as pd\n",
    "\n",
    "\n",
    "#Since other datasets are fixed use this.!!!\n",
    "\n",
    "\n",
    "df1 = pd.read_csv(\"dec19_p.csv\", sep=\";\")\n",
    "df2 = pd.read_csv(\"jan20_p.csv\", sep=\";\")\n",
    "df3 = pd.read_csv(\"feb20_p.csv\", sep=\";\")\n",
    "df4 = pd.read_csv(\"april20_p.csv\", sep=\";\")\n",
    "df5 = pd.read_csv(\"aug20_p.csv\", sep=\";\")\n",
    "df6 = pd.read_csv(\"sept20_p.csv\", sep=\";\")\n",
    "df7 = pd.read_csv(\"nov20_p.csv\", sep=\";\")\n",
    "df8 = pd.read_csv(\"oct20_p.csv\", sep=\";\")\n",
    "df9 = pd.read_csv(\"jan21_p.csv\", sep=\";\")\n",
    "df10 = pd.read_csv(\"feb21_p.csv\", sep=\";\")\n",
    "df11 = pd.read_csv(\"march21_p.csv\", sep=\";\")\n",
    "\n",
    "test1 = [df1, df2, df3, df4, df5, df6, df7, df8, df9, df10, df11]\n",
    "bigdata1 = pd.concat(test1)\n",
    "bigdata1.shape\n",
    "#frames = [df1, df2, df3]\n",
    "#result = pd.concat(frames)\n",
    "bigdata1.head()\n",
    "bigdata1.to_csv(\"bigdata1.csv\", header=True, sep=';', decimal='.')"
   ]
  },
  {
   "cell_type": "code",
   "execution_count": 9,
   "id": "least-uruguay",
   "metadata": {},
   "outputs": [
    {
     "data": {
      "text/plain": [
       "(100, 5)"
      ]
     },
     "execution_count": 9,
     "metadata": {},
     "output_type": "execute_result"
    }
   ],
   "source": []
  },
  {
   "cell_type": "markdown",
   "id": "impressive-retirement",
   "metadata": {},
   "source": [
    "\n",
    "dec20.csv, march20.csv, may20.csv, july20.csv, jun20.csv --> indexoutoflist\n",
    "\n",
    "april20, aug20, dec19, feb20, feb21, jan20, jan21, march21, nov20, oct20,\n",
    "sept20, \n",
    "\n",
    "dec19-jan20-feb20-april20-aug20-sept20-nov20-oct20-jan21-feb21\n"
   ]
  }
 ],
 "metadata": {
  "kernelspec": {
   "display_name": "Python 3",
   "language": "python",
   "name": "python3"
  },
  "language_info": {
   "codemirror_mode": {
    "name": "ipython",
    "version": 3
   },
   "file_extension": ".py",
   "mimetype": "text/x-python",
   "name": "python",
   "nbconvert_exporter": "python",
   "pygments_lexer": "ipython3",
   "version": "3.8.8"
  }
 },
 "nbformat": 4,
 "nbformat_minor": 5
}
